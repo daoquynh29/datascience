{
 "cells": [
  {
   "cell_type": "markdown",
   "metadata": {},
   "source": [
    "# Data Science Project 1:\n",
    "\n",
    "# Due: 06/14/2020 (Sunday), Midnight your time.\n",
    "\n",
    "# Name: MLy"
   ]
  },
  {
   "cell_type": "markdown",
   "metadata": {},
   "source": [
    "“I certify that all solutions are entirely in my own words and that I have not looked at another student’s solutions. I have given credit to all external sources I consulted.”"
   ]
  },
  {
   "cell_type": "markdown",
   "metadata": {},
   "source": [
    "Submit link: https://www.kaggle.com/c/ds100fa19/overview (test accuracy)"
   ]
  },
  {
   "cell_type": "markdown",
   "metadata": {},
   "source": [
    "Data: https://drive.google.com/file/d/1XiGbOBTOj44sTUC1a3n32AfW5eQYxmXQ/view?usp=sharing"
   ]
  },
  {
   "cell_type": "markdown",
   "metadata": {},
   "source": [
    "### RULE:\n",
    "\n",
    "- Please back up everything by GIT\n",
    "- Please type everything in Latex\n",
    "- Please do not cheat\n",
    "- Please try to start it early, since kaggle only allows you to submit twice a day\n",
    "- Please PM me on discord directly if you have any question\n",
    "- Please download teamview https://www.teamviewer.com/en-us/ if you want me to look at your code\n",
    "- Please feel free to cooperate with friends and list their name here:"
   ]
  },
  {
   "cell_type": "markdown",
   "metadata": {},
   "source": [
    "“Sometimes you make choices in life and sometimes choices make you.” (Forman, 2009)"
   ]
  },
  {
   "cell_type": "markdown",
   "metadata": {},
   "source": [
    "# SKELETON:"
   ]
  },
  {
   "cell_type": "markdown",
   "metadata": {},
   "source": [
    "### IMPORT LIBRARIES:"
   ]
  },
  {
   "cell_type": "markdown",
   "metadata": {},
   "source": [
    "### IMPORT DATA:"
   ]
  },
  {
   "cell_type": "markdown",
   "metadata": {},
   "source": [
    "### DATA MINING:"
   ]
  },
  {
   "cell_type": "markdown",
   "metadata": {},
   "source": [
    "### DATA CLEANING:"
   ]
  },
  {
   "cell_type": "markdown",
   "metadata": {},
   "source": [
    "### EAD:"
   ]
  },
  {
   "cell_type": "markdown",
   "metadata": {},
   "source": [
    "### CONCLUSION ABOUT DATA:"
   ]
  },
  {
   "cell_type": "markdown",
   "metadata": {},
   "source": [
    "### MODELING:"
   ]
  },
  {
   "cell_type": "markdown",
   "metadata": {},
   "source": [
    "### EVALUATE MODEL:"
   ]
  },
  {
   "cell_type": "markdown",
   "metadata": {},
   "source": [
    "### OUTPUT TO CSV FILE:"
   ]
  },
  {
   "cell_type": "code",
   "execution_count": null,
   "metadata": {},
   "outputs": [],
   "source": [
    "# submission_df = pd.DataFrame({\n",
    "#     \"Id\": test['id'], \n",
    "#     \"Class\": test_predictions,\n",
    "# }, columns=['Id', 'Class'])\n",
    "# timestamp = datetime.isoformat(datetime.now()).split(\".\")[0]\n",
    "# submission_df.to_csv(\"submission_{}.csv\".format(timestamp), index=False)\n",
    "\n",
    "# print('Created a CSV file: {}.'.format(\"submission_{}.csv\".format(timestamp)))\n",
    "# print('You may now upload this CSV file to Kaggle for scoring.')"
   ]
  },
  {
   "cell_type": "markdown",
   "metadata": {},
   "source": [
    "### RECAP:"
   ]
  },
  {
   "cell_type": "markdown",
   "metadata": {},
   "source": [
    "###### Congratulation on finishing your first project, this will be exactly what a real Data Scientist (ML) would do in their every day job. If you understand this project, you are at 33% ready for being a data scientist. Professor Khoa. \n",
    "\n",
    "- What technique did you use in the project? \n",
    "- What made the most different in accuracy? \n",
    "- What is your thought about the project? \n",
    "- Do you think you can major Data Science?\n",
    "- How many hour did you spend on the project? "
   ]
  }
 ],
 "metadata": {
  "kernelspec": {
   "display_name": "Python 3",
   "language": "python",
   "name": "python3"
  },
  "language_info": {
   "codemirror_mode": {
    "name": "ipython",
    "version": 3
   },
   "file_extension": ".py",
   "mimetype": "text/x-python",
   "name": "python",
   "nbconvert_exporter": "python",
   "pygments_lexer": "ipython3",
   "version": "3.7.6"
  }
 },
 "nbformat": 4,
 "nbformat_minor": 4
}
